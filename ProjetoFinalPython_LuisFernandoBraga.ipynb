{
  "nbformat": 4,
  "nbformat_minor": 0,
  "metadata": {
    "colab": {
      "name": "ProjetoFinalPython_LuisFernandoBraga.ipynb",
      "provenance": [],
      "collapsed_sections": []
    },
    "kernelspec": {
      "name": "python3",
      "display_name": "Python 3"
    },
    "language_info": {
      "name": "python"
    }
  },
  "cells": [
    {
      "cell_type": "markdown",
      "source": [
        "\n",
        "# **Projeto Final para a Disciplina de Introdução a Programação em Python**\n",
        "\n",
        "### Informática Biomédica\n",
        "\n",
        "### Universidade Federal de Ciências da Saúde de Porto Alegre - UFCSPA\n",
        "\n",
        "\n",
        "*   Luis Fernando Braga\n",
        "\n"
      ],
      "metadata": {
        "id": "tpsNEd50Kxao"
      }
    },
    {
      "cell_type": "markdown",
      "source": [
        "# Enunciado\n",
        "O arquivo \"*owid-covid-data.csv*\" contém dados de diversos países coletados entre janeiro de 2020 e junho de 2021, referentes à pandemia de COVID-19. Esse arquivo está disponível em: https://www.kaggle.com/datasets/fedesoriano/coronavirus-covid19-vaccinations-data, onde pode-se encontrar sua descrição completa."
      ],
      "metadata": {
        "id": "2b6QDsvDqW_y"
      }
    },
    {
      "cell_type": "markdown",
      "source": [
        "1) Selecione **pelo menos dois países** e **pelo menos cinco variáveis.**. Faça uma **análise comparativa dessas variáveis entre os países escolhidos.** Utilize o *Matplotlib* para demonstrar as suas análises (você deve apresentar **pelo menos cinco gráficos, um para cada variável analisada).** Você é livre para escolher as variáveis e tipos de gráficos que quer utilizar, portanto seja criativo! Fundamente sua análise em reportagens (de um meio de comunicação confiável) ou artigos científicos. Neste caso, coloque a fonte utilizada. Abaixo, um exemplo:"
      ],
      "metadata": {
        "id": "YRpXDJ9HqwQJ"
      }
    },
    {
      "cell_type": "code",
      "source": [
        "from google.colab import drive\n",
        "drive.mount('/content/gdrive')"
      ],
      "metadata": {
        "id": "1v8lakbx3-6x"
      },
      "execution_count": null,
      "outputs": []
    },
    {
      "cell_type": "code",
      "source": [
        "import pandas as pd\n",
        "import numpy as np\n",
        "import matplotlib.pyplot as plt\n",
        "import matplotlib.patches as mpatches"
      ],
      "metadata": {
        "id": "_hY9OMRY4DlM"
      },
      "execution_count": null,
      "outputs": []
    },
    {
      "cell_type": "code",
      "source": [
        "DF = pd.read_csv(\"/content/gdrive/MyDrive/Python/owid-covid-data.csv\", delimiter=',')"
      ],
      "metadata": {
        "id": "UAa39NNr4F1-"
      },
      "execution_count": null,
      "outputs": []
    },
    {
      "cell_type": "markdown",
      "source": [
        "#**1 - Comparação entre número de casos nos Estados Unidos e Brasil em 2020 e 2021. (total_cases_per_million)**\n",
        "\n",
        "*Nos últimos meses, os EUA enfrentaram uma escalada de novos casos diários de Covid-19 por conta da variante Delta. No início de julho, eram 40 casos por dia a cada 1 milhão de habitantes. Hoje, são 490 casos — um aumento de mais de 10 vezes.*\n",
        "\n",
        "*Já o Brasil fez o caminho inverso: saiu de 360 novos casos por dia a cada 1 milhão de habitantes para 102 casos diários na mesma proporção.*\n",
        "\n",
        "Fonte: https://www.cnnbrasil.com.br/saude/brasil-e-eua-vivem-momentos-diferentes-da-pandemia-com-temor-de-variante-delta/"
      ],
      "metadata": {
        "id": "pwKL2u_wP3tW"
      }
    },
    {
      "cell_type": "code",
      "source": [
        "brazil = [DF[(DF[\"location\"] == \"Brazil\")]]\n",
        "DF_BRA = pd.concat(brazil, axis=1)\n",
        "DF_DATE_BRA = pd.to_datetime(DF_BRA[\"date\"])\n",
        "\n",
        "eua = [DF[(DF[\"location\"] == \"United States\")]]\n",
        "DF_EUA = pd.concat(eua, axis=1)\n",
        "DF_DATE_EUA = pd.to_datetime(DF_EUA[\"date\"])\n",
        "\n",
        "plt.figure(figsize=(15,5))\n",
        "\n",
        "plt.plot(DF_DATE_BRA, DF_BRA[\"total_cases_per_million\"], 'm--', DF_DATE_EUA, DF_EUA[\"total_cases_per_million\"], 'g--')\n",
        "plt.legend(['Brasil',\"Estados Unidos\"],fontsize=15,loc=0)\n",
        "plt.xlabel(\"Período de ocorrência\",fontsize=10)\n",
        "plt.ylabel(\"Casos por milhão de habitantes\",fontsize=10)\n",
        "\n",
        "plt.tight_layout()"
      ],
      "metadata": {
        "id": "63IIeKKt4BNr"
      },
      "execution_count": null,
      "outputs": []
    },
    {
      "cell_type": "markdown",
      "source": [
        "#**2 - Análise de mortes por Covid-19 no Mundo (total_deaths)**\n",
        "\n",
        "*Mais de 5 milhões de pessoas já morreram de Covid-19 em todo o mundo desde o início da pandemia. A marca foi atingida nesta segunda-feira (1º), 117 dias depois do registro de 4 milhões de vítimas, segundo dados da Universidade Johns Hopkins.*\n",
        "\n",
        "*Na última semana, os óbitos voltaram a subir 5% globalmente, segundo o mais recente relatório da Organização Mundial de Saúde (OMS). As piores situações são na Europa, que teve 14% mais mortes do que na semana anterior, e na Ásia, com um aumento de 13% no mesmo período.*\n",
        "\n",
        "*Outro fator preocupante é o caso da Rússia, que diariamente tem batido recordes de casos e mortes. Já no Brasil, a situação neste momento é bem melhor do que quando o mundo tinha 4 milhões de mortes pela doença.*\n",
        "\n",
        "*Na época, o país tinha a pior média mundial de óbitos, posição que hoje cabe à Romênia. Hoje, o Brasil é o 40º nesse mesmo ranking, segundo o site \"Our World in Data\".*\n",
        "\n",
        "Fonte: https://g1.globo.com/mundo/noticia/2021/11/01/mundo-passa-dos-5-milhoes-de-mortes-por-covid.ghtml"
      ],
      "metadata": {
        "id": "BNHoDy_ecdi1"
      }
    },
    {
      "cell_type": "code",
      "source": [
        "eua = [DF[(DF[\"location\"] == \"United States\")]]\n",
        "DF_EUA = pd.concat(eua, axis=1)\n",
        "DF_EUA['date'] = pd.to_datetime(DF_EUA['date'])\n",
        "DEATHS_EUA = DF_EUA[DF_EUA['date'] == '2021-06-28']['total_deaths'].sum()\n",
        "\n",
        "brazil = [DF[(DF[\"location\"] == \"Brazil\")]]\n",
        "DF_BRA = pd.concat(brazil, axis=1)\n",
        "DF_BRA['date'] = pd.to_datetime(DF_BRA['date'])\n",
        "DEATHS_BRA = DF_BRA[DF_BRA['date'] == '2021-06-28']['total_deaths'].sum()\n",
        "\n",
        "india = [DF[(DF[\"location\"] == \"India\")]]\n",
        "DF_IN = pd.concat(india, axis=1)\n",
        "DF_IN['date'] = pd.to_datetime(DF_IN['date'])\n",
        "DEATHS_IN = DF_IN[DF_IN['date'] == '2021-06-28']['total_deaths'].sum()\n",
        "\n",
        "russia = [DF[(DF[\"location\"] == \"Russia\")]]\n",
        "DF_RU = pd.concat(russia, axis=1)\n",
        "DF_RU['date'] = pd.to_datetime(DF_RU['date'])\n",
        "DEATHS_RU = DF_RU[DF_RU['date'] == '2021-06-28']['total_deaths'].sum()\n",
        "\n",
        "romania = [DF[(DF[\"location\"] == \"Romania\")]]\n",
        "DF_RO = pd.concat(romania, axis=1)\n",
        "DF_RO['date'] = pd.to_datetime(DF_RO['date'])\n",
        "DEATHS_RO = DF_RO[DF_RO['date'] == '2021-06-28']['total_deaths'].sum()\n",
        "\n",
        "EUA = mpatches.Patch(color='C', label='Estados Unidos')\n",
        "BR = mpatches.Patch(color='G', label='Brasil')\n",
        "IN = mpatches.Patch(color='Y', label='Índia')\n",
        "RU = mpatches.Patch(color='R', label='Rússia')\n",
        "RO = mpatches.Patch(color='B', label='Romênia')\n",
        "\n",
        "x = np.arange(5)\n",
        "width = 0.6\n",
        "\n",
        "plt.figure(figsize=(15,5));\n",
        "plt.bar(x,[DEATHS_EUA,DEATHS_BRA,DEATHS_IN,DEATHS_RU,DEATHS_RO],color=['C','G','Y','R','B']);\n",
        "plt.xticks(x,[DEATHS_EUA,DEATHS_BRA,DEATHS_IN,DEATHS_RU,DEATHS_RO]);\n",
        "plt.grid();\n",
        "\n",
        "plt.legend(handles=[EUA, BR, IN, RU, RO])\n",
        "plt.title('Comparação de mortes pela Covid-19 sobre alguns países citados no artigo');\n",
        "\n",
        "plt.tight_layout()"
      ],
      "metadata": {
        "id": "51bJYEAF4eFP"
      },
      "execution_count": null,
      "outputs": []
    },
    {
      "cell_type": "markdown",
      "source": [
        "# **3 - Comparação de número de mortes por milhão da Argentina com Peru no mês de Junho de 2021 (*totaldeathsper_million*)**\n",
        "De acordo com a reportagem do portal Poder360, em Junho de 2021 a Argentina se tornou o 13º país no ranking de mortes por milhão de habitantes com por volta de 2000 mortes por milhão e o Peru aparece como primeira posição no ranking com aproximadamente 5000.\n",
        "\n",
        "Fonte: https://www.poder360.com.br/internacional/covid-no-mundo-argentina-vai-ao-13o-lugar-do-ranking-de-mortes-por-milhao/\n"
      ],
      "metadata": {
        "id": "5fNgkkFRaVFO"
      }
    },
    {
      "cell_type": "code",
      "source": [
        "argentina = [DF[(DF[\"location\"] == \"Argentina\") & (DF[\"date\"] >= '2021-06-01')]] #Por não possuir registros após o mês de Junho de 2021 não é necessário fazer a limitação superior\n",
        "DF_ARG = pd.concat(argentina, axis=1)\n",
        "\n",
        "DF_ARG['date'] = pd.to_datetime(DF_ARG['date'])\n",
        "\n",
        "peru = [DF[(DF[\"location\"] == \"Peru\") & (DF[\"date\"] >= '2021-06-01')]]\n",
        "DF_PER = pd.concat(peru, axis=1)\n",
        "\n",
        "DF_PER['date'] = pd.to_datetime(DF_PER['date'])\n",
        "\n",
        "\n",
        "plt.figure(figsize=(15,5))\n",
        "\n",
        "plt.plot(DF_PER['date'], DF_PER[\"total_deaths_per_million\"], 'ko-', DF_ARG['date'], DF_ARG[\"total_deaths_per_million\"], 'bo-')\n",
        "plt.legend(['Peru',\"Argentina\"],fontsize=15,loc=0)\n",
        "plt.xlabel(\"Data\",fontsize=10)\n",
        "plt.ylabel(\"Mortes por milhão de habitantes\",fontsize=10)\n",
        "\n",
        "plt.tight_layout()\n"
      ],
      "metadata": {
        "id": "fkFk-XfN44Fi"
      },
      "execution_count": null,
      "outputs": []
    },
    {
      "cell_type": "markdown",
      "source": [
        "# **4 - Imunização Brasil x EUA (new_vaccinations)**\n",
        "\n",
        "\"*O Brasil já tem mais de 25 milhões de doses de vacinas contra a Covid-19 administradas. O país ultrapassou a marca nas últimas 24 horas e até agora aplicou 25.293.644 injeções contra a doença. O número equivale a 19.762.485 de pessoas que receberam a primeira dose em todo o território nacional e as 5.531.159 restantes, à administração da segunda dose.*\"\n",
        "\n",
        "\"*Isso significa que 9,4% dos brasileiros já receberam ao menos uma dose da vacina contra a Covid-19. Ao considerar aqueles totalmente imunizados, a taxa cai para 2,6%.*\"\n",
        "\n",
        "\n",
        "Fonte: https://veja.abril.com.br/saude/brasil-supera-a-marca-de-25-milhoes-de-doses-contra-covid-19-aplicadas/"
      ],
      "metadata": {
        "id": "2Xo8UM8Zqh6v"
      }
    },
    {
      "cell_type": "code",
      "source": [
        "brazil = [DF[(DF[\"location\"] == \"Brazil\")]]\n",
        "DF_BRA = pd.concat(brazil, axis=1)\n",
        "DF_BRA['date'] = pd.to_datetime(DF_BRA['date'])\n",
        "\n",
        "\n",
        "BRA_vacined = ((DF_BRA[(DF_BRA['date'] >= '2020-01-01') & (DF_BRA['date'] <= '2021-04-06')]['new_vaccinations'].sum()) / DF_BRA[DF_BRA['date'] == '2020-04-06']['population']) *100\n",
        "EUA_vacined = ((DF_EUA[(DF_EUA['date'] >= '2020-01-01') & (DF_EUA['date'] <= '2021-04-06')]['new_vaccinations'].sum()) / DF_EUA[DF_EUA['date'] == '2020-04-06']['population']) *100\n",
        "\n",
        "labels1 = 'Vacinados Brasil', 'Não-Vacinados Brasil'\n",
        "sizes1 = [BRA_vacined, (100-BRA_vacined)]\n",
        "\n",
        "labels2 = 'Vacinados Estados Unidos', 'Não-Vacinados Estados Unidos'\n",
        "sizes2 = [EUA_vacined, (100-EUA_vacined)]\n",
        "\n",
        "explode = [0.2, 0]\n",
        "\n",
        "colors = ['#D0E1D4','#71697a']\n",
        "\n",
        "\n",
        "fig1, ax1 = plt.subplots()\n",
        "ax1.pie(sizes1, explode=explode, colors=colors, labels=labels1, autopct='%1.2f%%', shadow=True, startangle=90)\n",
        "ax1.axis('equal')\n",
        "\n",
        "fig1, ax2 = plt.subplots()\n",
        "ax2.pie(sizes2, explode=explode, colors=colors, labels=labels2, autopct='%1.2f%%', shadow=True, startangle=90)\n",
        "ax2.axis('equal')\n",
        "plt.show"
      ],
      "metadata": {
        "id": "5IA0D9qHAkz9"
      },
      "execution_count": null,
      "outputs": []
    },
    {
      "cell_type": "markdown",
      "source": [
        "# **5 - Número total de casos de COVID-19 até 07 de Julho de 2020 no Brasil vs Estados Unidos (total_cases)**\n",
        "\n",
        "\"*A Organização Mundial da Saúde (OMS) registrou um novo recorde no número de casos confirmados de coronavírus em um período de 24 horas, superando 230 mil.*\"\n",
        "\n",
        "\"*No Brasil, o número de casos confirmados ultrapassou 1.864.000 neste domingo (12) e deve ultrapassar 2 milhões ainda nesta semana, segundo indica uma projeção feita à pedido da BBC News Brasil.*\"\n",
        "\n",
        "Utilizamos os dados disponibilizados para conferir se a projeção feita à pedido da BBC News Brasil estava correta e realmente ao fim da semana do dia 12 de Julho, o total de casos no Brasil já estava em 2 milhões e setenta e quatro mil. \n",
        "\n",
        "\n",
        "\n",
        "Fonte: https://www.bbc.com/portuguese/internacional-53392413"
      ],
      "metadata": {
        "id": "lBWHXvdyp9bI"
      }
    }
  ]
}