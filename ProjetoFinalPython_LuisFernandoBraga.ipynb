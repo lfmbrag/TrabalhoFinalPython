{
  "nbformat": 4,
  "nbformat_minor": 0,
  "metadata": {
    "colab": {
      "name": "ProjetoFinalPython_LuisFernandoBraga.ipynb",
      "provenance": [],
      "collapsed_sections": []
    },
    "kernelspec": {
      "name": "python3",
      "display_name": "Python 3"
    },
    "language_info": {
      "name": "python"
    }
  },
  "cells": [
    {
      "cell_type": "markdown",
      "source": [
        "\n",
        "# **Projeto Final para a Disciplina de Introdução a Programação em Python**\n",
        "\n",
        "### Informática Biomédica\n",
        "\n",
        "### Universidade Federal de Ciências da Saúde de Porto Alegre - UFCSPA\n",
        "\n",
        "\n",
        "*   Luis Fernando Braga\n",
        "\n"
      ],
      "metadata": {
        "id": "tpsNEd50Kxao"
      }
    },
    {
      "cell_type": "markdown",
      "source": [
        "# Enunciado\n",
        "O arquivo \"*owid-covid-data.csv*\" contém dados de diversos países coletados entre janeiro de 2020 e junho de 2021, referentes à pandemia de COVID-19. Esse arquivo está disponível em: https://www.kaggle.com/datasets/fedesoriano/coronavirus-covid19-vaccinations-data, onde pode-se encontrar sua descrição completa."
      ],
      "metadata": {
        "id": "2b6QDsvDqW_y"
      }
    },
    {
      "cell_type": "markdown",
      "source": [
        "1) Selecione **pelo menos dois países** e **pelo menos cinco variáveis.**. Faça uma **análise comparativa dessas variáveis entre os países escolhidos.** Utilize o *Matplotlib* para demonstrar as suas análises (você deve apresentar **pelo menos cinco gráficos, um para cada variável analisada).** Você é livre para escolher as variáveis e tipos de gráficos que quer utilizar, portanto seja criativo! Fundamente sua análise em reportagens (de um meio de comunicação confiável) ou artigos científicos. Neste caso, coloque a fonte utilizada. Abaixo, um exemplo:"
      ],
      "metadata": {
        "id": "YRpXDJ9HqwQJ"
      }
    },
    {
      "cell_type": "markdown",
      "source": [
        "#**1 - Comparação entre número de casos nos Estados Unidos e Brasil em 2020 e 2021. (total_cases_per_million)**\n",
        "\n",
        "*Nos últimos meses, os EUA enfrentaram uma escalada de novos casos diários de Covid-19 por conta da variante Delta. No início de julho, eram 40 casos por dia a cada 1 milhão de habitantes. Hoje, são 490 casos — um aumento de mais de 10 vezes.*\n",
        "\n",
        "*Já o Brasil fez o caminho inverso: saiu de 360 novos casos por dia a cada 1 milhão de habitantes para 102 casos diários na mesma proporção.*\n",
        "\n",
        "Fonte: https://www.cnnbrasil.com.br/saude/brasil-e-eua-vivem-momentos-diferentes-da-pandemia-com-temor-de-variante-delta/"
      ],
      "metadata": {
        "id": "pwKL2u_wP3tW"
      }
    },
    {
      "cell_type": "markdown",
      "source": [
        "#**2 - Análise de mortes por Covid-19 no Mundo (total_deaths)**\n",
        "\n",
        "*Mais de 5 milhões de pessoas já morreram de Covid-19 em todo o mundo desde o início da pandemia. A marca foi atingida nesta segunda-feira (1º), 117 dias depois do registro de 4 milhões de vítimas, segundo dados da Universidade Johns Hopkins.*\n",
        "\n",
        "*Na última semana, os óbitos voltaram a subir 5% globalmente, segundo o mais recente relatório da Organização Mundial de Saúde (OMS). As piores situações são na Europa, que teve 14% mais mortes do que na semana anterior, e na Ásia, com um aumento de 13% no mesmo período.*\n",
        "\n",
        "*Outro fator preocupante é o caso da Rússia, que diariamente tem batido recordes de casos e mortes. Já no Brasil, a situação neste momento é bem melhor do que quando o mundo tinha 4 milhões de mortes pela doença.*\n",
        "\n",
        "*Na época, o país tinha a pior média mundial de óbitos, posição que hoje cabe à Romênia. Hoje, o Brasil é o 40º nesse mesmo ranking, segundo o site \"Our World in Data\".*\n",
        "\n",
        "Fonte: https://g1.globo.com/mundo/noticia/2021/11/01/mundo-passa-dos-5-milhoes-de-mortes-por-covid.ghtml"
      ],
      "metadata": {
        "id": "BNHoDy_ecdi1"
      }
    },
    {
      "cell_type": "markdown",
      "source": [
        "# **3 - Comparação de número de mortes por milhão da Argentina com Peru no mês de Junho de 2021 (*totaldeathsper_million*)**\n",
        "De acordo com a reportagem do portal Poder360, em Junho de 2021 a Argentina se tornou o 13º país no ranking de mortes por milhão de habitantes com por volta de 2000 mortes por milhão e o Peru aparece como primeira posição no ranking com aproximadamente 5000.\n",
        "\n",
        "Fonte: https://www.poder360.com.br/internacional/covid-no-mundo-argentina-vai-ao-13o-lugar-do-ranking-de-mortes-por-milhao/\n"
      ],
      "metadata": {
        "id": "5fNgkkFRaVFO"
      }
    },
    {
      "cell_type": "markdown",
      "source": [
        "# **4 - Imunização Brasil x EUA (new_vaccinations)**\n",
        "\n",
        "\"*O Brasil já tem mais de 25 milhões de doses de vacinas contra a Covid-19 administradas. O país ultrapassou a marca nas últimas 24 horas e até agora aplicou 25.293.644 injeções contra a doença. O número equivale a 19.762.485 de pessoas que receberam a primeira dose em todo o território nacional e as 5.531.159 restantes, à administração da segunda dose.*\"\n",
        "\n",
        "\"*Isso significa que 9,4% dos brasileiros já receberam ao menos uma dose da vacina contra a Covid-19. Ao considerar aqueles totalmente imunizados, a taxa cai para 2,6%.*\"\n",
        "\n",
        "\n",
        "Fonte: https://veja.abril.com.br/saude/brasil-supera-a-marca-de-25-milhoes-de-doses-contra-covid-19-aplicadas/"
      ],
      "metadata": {
        "id": "2Xo8UM8Zqh6v"
      }
    },
    {
      "cell_type": "markdown",
      "source": [
        "# **5 - Número total de casos de COVID-19 até 07 de Julho de 2020 no Brasil vs Estados Unidos (total_cases)**\n",
        "\n",
        "\"*A Organização Mundial da Saúde (OMS) registrou um novo recorde no número de casos confirmados de coronavírus em um período de 24 horas, superando 230 mil.*\"\n",
        "\n",
        "\"*No Brasil, o número de casos confirmados ultrapassou 1.864.000 neste domingo (12) e deve ultrapassar 2 milhões ainda nesta semana, segundo indica uma projeção feita à pedido da BBC News Brasil.*\"\n",
        "\n",
        "Utilizamos os dados disponibilizados para conferir se a projeção feita à pedido da BBC News Brasil estava correta e realmente ao fim da semana do dia 12 de Julho, o total de casos no Brasil já estava em 2 milhões e setenta e quatro mil. \n",
        "\n",
        "\n",
        "\n",
        "Fonte: https://www.bbc.com/portuguese/internacional-53392413"
      ],
      "metadata": {
        "id": "lBWHXvdyp9bI"
      }
    }
  ]
}